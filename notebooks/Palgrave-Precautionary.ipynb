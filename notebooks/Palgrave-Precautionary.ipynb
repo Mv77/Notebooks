{
 "cells": [
  {
   "cell_type": "markdown",
   "metadata": {},
   "source": [
    "# Precautionary Saving and Precautionary Wealth\n",
    "\n",
    "### A notebook by [Mateo Velasquez-Giraldo](https://github.com/Mv77/)\n",
    "\n",
    "This notebook reproduces the figures in Christopher D. Carroll and Miles S. Kimball's entry on [Precautionary Saving and Precautionary Wealth](http://www.econ2.jhu.edu/people/ccarroll/PalgravePrecautionary.pdf) in [The New Palgrave Dictionary of Economics](https://www.palgrave.com/gp/book/9781349951888), using tools from the [Econ-ARK](https://econ-ark.org/) project."
   ]
  },
  {
   "cell_type": "code",
   "execution_count": 1,
   "metadata": {
    "code_folding": [
     0
    ]
   },
   "outputs": [],
   "source": [
    "# Setup\n",
    "from HARK.ConsumptionSaving.ConsIndShockModel import IndShockConsumerType\n",
    "\n",
    "import matplotlib.pyplot as plt\n",
    "import numpy as np\n",
    "mystr = lambda number : \"{:.4f}\".format(number)\n",
    "\n",
    "from copy import copy\n",
    "\n",
    "from scipy.interpolate import interp1d\n",
    "from scipy.optimize import root_scalar"
   ]
  },
  {
   "cell_type": "code",
   "execution_count": 2,
   "metadata": {
    "code_folding": [
     0
    ],
    "lines_to_next_cell": 2
   },
   "outputs": [],
   "source": [
    "# Define parameters for two consumers,\n",
    "# a perfect foresight one and one with shocks to income\n",
    "\n",
    "# Import standard parameters\n",
    "from HARK.ConsumptionSaving.ConsumerParameters import init_idiosyncratic_shocks\n",
    "IdiosyncDict = init_idiosyncratic_shocks\n",
    "\n",
    "# Make modifications to fit our problem:\n",
    "\n",
    "# No artificial borrowing constraint\n",
    "IdiosyncDict[\"BoroCnstArt\"] = -500\n",
    "# No unemployment\n",
    "IdiosyncDict[\"UnempPrb\"] = 0\n",
    "# Ask HARK to compute the value function\n",
    "IdiosyncDict[\"vFuncBool\"] = True\n",
    "\n",
    "\n",
    "# Create a copy with income uncertainty turned off\n",
    "PFDict = copy(IdiosyncDict)\n",
    "PFDict[\"PermShkStd\"] = [0]\n",
    "PFDict[\"TranShkStd\"] = [0]"
   ]
  },
  {
   "cell_type": "code",
   "execution_count": 3,
   "metadata": {
    "code_folding": [
     0
    ],
    "lines_to_next_cell": 1
   },
   "outputs": [],
   "source": [
    "# Create and solve consumers\n",
    "IndShockConsumer = IndShockConsumerType(**IdiosyncDict)\n",
    "IndShockConsumer.cycles = 0 # Make this type have an infinite horizon\n",
    "IndShockConsumer.solve()\n",
    "\n",
    "PFConsumer = IndShockConsumerType(**PFDict)\n",
    "PFConsumer.cycles = 0\n",
    "PFConsumer.solve()"
   ]
  },
  {
   "cell_type": "markdown",
   "metadata": {},
   "source": [
    "## Figure 1: Marginal Utility of Assets and Consumption"
   ]
  },
  {
   "cell_type": "markdown",
   "metadata": {},
   "source": [
    "Consider an agent facing the following dynamic problem expressed in recursive form:\n",
    "\n",
    "\\begin{equation}\n",
    "\\begin{split}\n",
    "v_t(m_t) =& \\max_{c_t} \\{u(c_t) + \\beta \\mathbb{E}_t[v_{t+1}(R a_t + \\tilde{y}_{t+1})] \\}\\\\\n",
    "& s.t \\quad a_t = m_t - c_t,\n",
    "\\end{split}\n",
    "\\end{equation}\n",
    "\n",
    "where $c_t$ represents consumption, $m_t$ beginning-of-period resources, $a_t$ end-of-period resources, and $\\tilde{y}_{t+1}$ non-capital income in the next period, which is random from the perspective of this period.\n",
    "\n",
    "The consumer chooses $c_t$ balancing two forces:\n",
    "- The desire to consume his resources now, captured by $u(c_t)$.\n",
    "- The benefit that he gets from saving his resources for next period, which we represent with $\\omega(a_t)=\\beta \\mathbb{E}_t[v_{t+1}(R a_t + \\tilde{y}_{t+1})]$.\n",
    "\n",
    "Under standard assumptions, a requirement for optimality is that $$u'(m_t - a_t) = \\omega'(a_t).$$\n",
    "\n",
    "Figure 1 shows that uncertainty shifts up the expected marginal value of\n",
    "resources on the next period, moving savings from $a^*$ (which would be\n",
    "observed if income were certain at $\\mathbb{E}_t[\\tilde{y}_{t+1}]$) to \n",
    "$a^{**}$. This increase is the precautionary saving induced by the uncertainty \n",
    "around income."
   ]
  },
  {
   "cell_type": "code",
   "execution_count": 4,
   "metadata": {
    "code_folding": [
     0
    ]
   },
   "outputs": [
    {
     "data": {
      "text/plain": [
       "<matplotlib.legend.Legend at 0x19398e61cf8>"
      ]
     },
     "execution_count": 4,
     "metadata": {},
     "output_type": "execute_result"
    },
    {
     "data": {
      "image/png": "[encoded data removed]",
      "text/plain": [
       "<Figure size 432x288 with 1 Axes>"
      ]
     },
     "metadata": {
      "needs_background": "light"
     },
     "output_type": "display_data"
    }
   ],
   "source": [
    "# Figure 1\n",
    "\n",
    "def uP(agent, c):\n",
    "    '''\n",
    "    Computes the marginal utility of consumption for an agent with\n",
    "    CRRA utility at a consumption level c.\n",
    "    '''\n",
    "    return( c**(-agent.CRRA) )\n",
    "    \n",
    "def approxOmegaP(agent):\n",
    "    '''\n",
    "    Constructs a function that computes the discounted expected marginal value\n",
    "    of wealth next period w'(a) for a grid of end of period assets using the\n",
    "    fact that optimal consumption c() satisfies u'(c(m_t)) = w'_t(m_t - c(m_t))\n",
    "    '''\n",
    "    # Take the end-of-period assets grid from the consumer\n",
    "    agrid = agent.aXtraGrid\n",
    "    a_min = agrid[0]\n",
    "    a_max = agrid[-1]\n",
    "    # For each a, we need to find the implied m that generates it\n",
    "    aux = lambda m: m - agent.solution[0].cFunc(m)\n",
    "    m_grid = np.array([root_scalar(lambda m: a - aux(m), x0 = a_min, x1 = a_max).root\n",
    "                       for a in agrid])\n",
    "    \n",
    "    # Then we can get consumption\n",
    "    c_grid = agent.solution[0].cFunc(m_grid)\n",
    "    # And with consmption, omega, since\n",
    "    # omega prime is U' at the optimal C.\n",
    "    omegaP_grid = uP(agent, c_grid)\n",
    "    \n",
    "    # We finally interpolate\n",
    "    omegaP = interp1d(agrid, omegaP_grid, kind='cubic')\n",
    "    \n",
    "    return(omegaP)\n",
    "\n",
    "\n",
    "m = 8\n",
    "a_min = 3\n",
    "a_grid = np.linspace(a_min, m*0.85, 50)\n",
    "\n",
    "# Approximate omega with and without uncertainty\n",
    "omegaP_uncert = approxOmegaP(IndShockConsumer)\n",
    "omegaP_PF = approxOmegaP(PFConsumer)\n",
    "\n",
    "# Find intercepts with marginal utility\n",
    "a_star1 = root_scalar(lambda a: omegaP_PF(a) - uP(PFConsumer, m - a),\n",
    "                      bracket = [a_min, m-0.01]).root\n",
    "a_star2 = root_scalar(lambda a: omegaP_uncert(a) - uP(IndShockConsumer, m - a),\n",
    "                      bracket = [a_min, m-0.01]).root\n",
    "                      \n",
    "# Line labels\n",
    "lab1 = '$\\omega_t\\'(a) = R \\\\beta E_t [v_{t+1}\\'(aR + \\\\tilde{y}_{t+1})]$'\n",
    "lab2 = '$R \\\\beta v_{t+1}\\'(aR + E_t[\\\\tilde{y}_{t+1}])$'\n",
    "lab3 = '$u\\'(m_t-a)$'\n",
    "\n",
    "# Main lines\n",
    "\n",
    "# Omega uncertainty\n",
    "plt.figure()\n",
    "plt.plot(a_grid, omegaP_uncert(a_grid), label = lab1)\n",
    "# Omega Perfect foresight\n",
    "plt.plot(a_grid, omegaP_PF(a_grid), label = lab2)\n",
    "# Marginal utility\n",
    "plt.plot(a_grid, uP(IndShockConsumer, m - a_grid), label = lab3)\n",
    "\n",
    "# Intersection lines\n",
    "plt.plot([a_star1,a_star1],[0,uP(PFConsumer, m - a_star1)],'k--')\n",
    "plt.text(a_star1,0.1, '$a^*$')\n",
    "plt.plot([a_star2,a_star2],[0,uP(IndShockConsumer, m - a_star2)],'k--')\n",
    "plt.text(a_star2,0.1, '$a^{**}$')\n",
    "\n",
    "plt.ylim(bottom = 0)\n",
    "plt.xlabel('a')\n",
    "plt.legend()"
   ]
  },
  {
   "cell_type": "markdown",
   "metadata": {},
   "source": [
    "## Figure 2"
   ]
  },
  {
   "cell_type": "markdown",
   "metadata": {},
   "source": [
    "Figure 2 compares optimal consumption with and without income uncertainty.\n",
    "The three most important facts to note are:\n",
    "1. Consumption under uncertainty is always lower than its perfect-foresight counterpart.\n",
    "2. The difference between them vanishes as market resources approach infinity.\n",
    "3. Under uncertain future income, the consumption function is concave."
   ]
  },
  {
   "cell_type": "code",
   "execution_count": 5,
   "metadata": {
    "code_folding": [
     0
    ]
   },
   "outputs": [
    {
     "data": {
      "text/plain": [
       "<matplotlib.legend.Legend at 0x19398ec7f98>"
      ]
     },
     "execution_count": 5,
     "metadata": {},
     "output_type": "execute_result"
    },
    {
     "data": {
      "image/png": "[encoded data removed]",
      "text/plain": [
       "<Figure size 432x288 with 1 Axes>"
      ]
     },
     "metadata": {
      "needs_background": "light"
     },
     "output_type": "display_data"
    }
   ],
   "source": [
    "# Figure 2\n",
    "\n",
    "# Define a function for the delta(m)=0 locus\n",
    "m0_locus = lambda m: m - (m-1)/(IdiosyncDict[\"Rfree\"]/\n",
    "                         IdiosyncDict[\"PermGroFac\"][0])\n",
    "\n",
    "# Define grid of market resources\n",
    "m_max = 100\n",
    "m_grid = np.linspace(IndShockConsumer.solution[0].mNrmMin, m_max, 500)\n",
    "\n",
    "# Main lines\n",
    "\n",
    "# Uncertainty solution\n",
    "plt.figure()\n",
    "plt.plot(m_grid, IndShockConsumer.solution[0].cFunc(m_grid),\n",
    "         label = '$c(m)$')\n",
    "# Perfect foresight solution\n",
    "plt.plot(m_grid, PFConsumer.solution[0].cFunc(m_grid),\n",
    "         label = 'Perf. Foresight $c(m)$')\n",
    "# Stable resource line\n",
    "plt.plot(m_grid, m0_locus(m_grid), label = 'Perm. Inc')\n",
    "# Target\n",
    "targ = (IndShockConsumer.solution[0].mNrmSS,\n",
    "        IndShockConsumer.solution[0].cFunc(IndShockConsumer.solution[0].mNrmSS))\n",
    "plt.plot(targ[0], targ[1], '*')\n",
    "\n",
    "# Annotations\n",
    "plt.xlabel('m')\n",
    "plt.ylabel('c')\n",
    "plt.annotate('Target',\n",
    "             xy = targ,\n",
    "             xytext = (targ[0]+5, targ[1]-0.5),\n",
    "             arrowprops=dict(facecolor='black', shrink=0.05,\n",
    "                             headwidth = 3, width = 0.5))\n",
    "plt.legend()"
   ]
  }
 ],
 "metadata": {
  "jupytext": {
   "formats": "ipynb,py:percent"
  },
  "kernelspec": {
   "display_name": "Python 3",
   "language": "python",
   "name": "python3"
  },
  "language_info": {
   "codemirror_mode": {
    "name": "ipython",
    "version": 3
   },
   "file_extension": ".py",
   "mimetype": "text/x-python",
   "name": "python",
   "nbconvert_exporter": "python",
   "pygments_lexer": "ipython3",
   "version": "3.7.3"
  }
 },
 "nbformat": 4,
 "nbformat_minor": 2
}
