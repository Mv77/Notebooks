{
 "cells": [
  {
   "cell_type": "markdown",
   "metadata": {},
   "source": [
    "## Introduction: Keynes, Friedman, Modigliani"
   ]
  },
  {
   "cell_type": "code",
   "execution_count": 1,
   "metadata": {},
   "outputs": [],
   "source": [
    "# Some initial setup\n",
    "import sys\n",
    "import os\n",
    "from matplotlib import pyplot as plt\n",
    "import numpy as np\n",
    "plt.style.use('seaborn-darkgrid')\n",
    "palette = plt.get_cmap('Dark2')\n",
    "\n",
    "import pandas as pd\n",
    "pd.core.common.is_list_like = pd.api.types.is_list_like\n",
    "import datetime as dt\n",
    "import scipy.stats as stats\n",
    "import statsmodels.formula.api as sm\n",
    "from copy  import deepcopy\n",
    "\n",
    "#import pandas_datareader.data as web\n",
    "# As of 09/03/2019 the latest available version of pandas-datareader\n",
    "# has conflicts with the latest version of pandas. We temporarily fix\n",
    "# this by loading data from files.\n",
    "# This should not be necessary when pandas-datareader>0.7 becomes available.\n",
    "from io import StringIO\n",
    "\n",
    "from HARK.ConsumptionSaving.ConsIndShockModel import *\n",
    "import HARK.ConsumptionSaving.ConsumerParameters as Params\n",
    "from HARK.utilities import plotFuncsDer, plotFuncs"
   ]
  },
  {
   "cell_type": "markdown",
   "metadata": {},
   "source": [
    "### 1. The Keynesian consumption function\n",
    "\n",
    "Keynes:\n",
    "1. \"The amount of aggregate consumption mainly depends on the amount of aggregate income.\"\n",
    "1. \"It is a \"fundamental psychological rule ... that when ... real income increases ... consumption [will increase], but by less than the increase in income.\"\n",
    "1. More generally, \"as a rule, a greater proportion of income ... is saved as real income increases.\"\n",
    "\n",
    "This can be formalized as:\n",
    "\n",
    "$\n",
    "\\begin{eqnarray}\n",
    "c_t & = &  a_0 + a_{1}y_t\n",
    "\\\\ c_t - c_{t-1} & = & a_{1}(y_t - y_{t-1})\n",
    "\\end{eqnarray}\n",
    "$\n",
    "\n",
    "for $a_0 > 0, a_1 < 1$\n"
   ]
  },
  {
   "cell_type": "markdown",
   "metadata": {},
   "source": [
    "#### The Keynesian Consumption Function"
   ]
  },
  {
   "cell_type": "code",
   "execution_count": 2,
   "metadata": {},
   "outputs": [],
   "source": [
    "class KeynesianConsumer:\n",
    "    \"\"\"\n",
    "    This class represents consumers that behave according to a\n",
    "    Keynesian consumption function, representing them as a\n",
    "    special case of HARK's PerfForesightConsumerType\n",
    "    \n",
    "    Methods:\n",
    "    - cFunc: computes consumption/permanent income \n",
    "             given total income/permanent income.\n",
    "    \"\"\"\n",
    "    \n",
    "    def __init__(self):\n",
    "        \n",
    "        PFexample = PerfForesightConsumerType(**Params.init_perfect_foresight) # set up a consumer type and use default parameteres\n",
    "        PFexample.cycles = 0 # Make this type have an infinite horizon\n",
    "        PFexample.DiscFac = 0.05\n",
    "        PFexample.PermGroFac = [0.7]\n",
    "\n",
    "        PFexample.solve() # solve the consumer's problem\n",
    "        PFexample.unpackcFunc() # unpack the consumption function\n",
    "        \n",
    "        self.cFunc = PFexample.solution[0].cFunc\n",
    "        self.a0 = self.cFunc(0)\n",
    "        self.a1 = self.cFunc(1) - self.cFunc(0)"
   ]
  },
  {
   "cell_type": "code",
   "execution_count": null,
   "metadata": {
    "code_folding": [],
    "scrolled": true
   },
   "outputs": [],
   "source": [
    "# Plot cFunc(Y)=Y against the Keynesian consumption function\n",
    "# Deaton-Friedman consumption function is a special case of perfect foresight model\n",
    "\n",
    "# We first create a Keynesian consumer\n",
    "KeynesianExample = KeynesianConsumer()\n",
    "\n",
    "# and then plot its consumption function\n",
    "income = np.linspace(0, 30, 20) # pick some income points\n",
    "plt.figure(figsize=(9,6))\n",
    "plt.plot(income, KeynesianExample.cFunc(income), label = 'Consumption function') #plot income versus the consumption\n",
    "plt.plot(income, income, 'k--', label = 'C=Y')\n",
    "plt.title('Consumption function')\n",
    "plt.xlabel('Income (y)')\n",
    "plt.ylabel('Normalized Consumption (c)')\n",
    "plt.ylim(0, 20)\n",
    "plt.legend()\n",
    "plt.show()"
   ]
  },
  {
   "cell_type": "code",
   "execution_count": null,
   "metadata": {
    "code_folding": []
   },
   "outputs": [],
   "source": [
    "# This looks like the first of the three equations, consumption as a linear function of income!\n",
    "# This means that even in a microfounded model (that HARK provides), the consumption function can match Keynes reduced form\n",
    "# prediction (given the right parameterisation).\n",
    "\n",
    "# We can even find a_0 and a_1\n",
    "a_0 = KeynesianExample.a0\n",
    "a_1 = KeynesianExample.a1\n",
    "print('a_0 is ' + str(a_0))\n",
    "print('a_1 is ' +  str(a_1))"
   ]
  },
  {
   "cell_type": "markdown",
   "metadata": {},
   "source": [
    "#### The Keynesian consumption function: Evidence"
   ]
  },
  {
   "cell_type": "markdown",
   "metadata": {},
   "source": [
    "Aggregate Data:\n",
    "\n",
    "Long-term time-series estimates: $a_0$ close to zero, $a_1$ close to 1 (saving rate stable over time - Kuznets).<br>\n",
    "Short-term aggregate time-series estimates of change in consumption on change in income find $a_1 << 1$.<br>\n",
    "$c_t = a_0 + a_{1}y_t + a_{2}c_{t-1}$ finds significant $a_2$, near 1."
   ]
  },
  {
   "cell_type": "code",
   "execution_count": null,
   "metadata": {
    "code_folding": [],
    "lines_to_next_cell": 0
   },
   "outputs": [],
   "source": [
    "# Lets have a look at some aggregate data\n",
    "\n",
    "sdt = dt.datetime(1980, 1, 1) #set startdate\n",
    "edt = dt.datetime (2017, 1, 1) #set end date\n",
    "# df = web.DataReader([\"PCECC96\", \"DPIC96\"], \"fred\", sdt, edt) #import the data from Fred\n",
    "quarterly_data_string = \"\"\"DATE,PCECC96,DPIC96\n",
    "1980-01-01,4277.851,4893.069\n",
    "1980-04-01,4181.51,4850.055\n",
    "1980-07-01,4227.379,4904.532\n",
    "1980-10-01,4284.494000000001,4972.057\n",
    "1981-01-01,4298.847,4965.1\n",
    "1981-04-01,4299.16,4970.894\n",
    "1981-07-01,4319.0470000000005,5078.088\n",
    "1981-10-01,4289.504,5083.669\n",
    "1982-01-01,4321.1,5095.938\n",
    "1982-04-01,4334.262,5126.682\n",
    "1982-07-01,4363.318,5151.281\n",
    "1982-10-01,4439.749,5167.46\n",
    "1983-01-01,4483.645,5216.222\n",
    "1983-04-01,4574.944,5252.3730000000005\n",
    "1983-07-01,4656.982,5331.188\n",
    "1983-10-01,4731.194,5449.929\n",
    "1984-01-01,4770.457,5558.7919999999995\n",
    "1984-04-01,4837.29,5651.1230000000005\n",
    "1984-07-01,4873.165,5725.728\n",
    "1984-10-01,4936.293,5772.469\n",
    "1985-01-01,5020.163,5757.403\n",
    "1985-04-01,5066.25,5869.535\n",
    "1985-07-01,5162.475,5851.143\n",
    "1985-10-01,5173.643,5913.044\n",
    "1986-01-01,5218.851,5990.8\n",
    "1986-04-01,5275.72,6067.419\n",
    "1986-07-01,5369.049,6106.1\n",
    "1986-10-01,5401.98,6115.403\n",
    "1987-01-01,5407.371999999999,6171.7480000000005\n",
    "1987-04-01,5481.166,6113.986999999999\n",
    "1987-07-01,5543.723000000001,6223.4259999999995\n",
    "1987-10-01,5555.451,6307.349\n",
    "1988-01-01,5653.588000000001,6399.868\n",
    "1988-04-01,5695.326,6465.76\n",
    "1988-07-01,5745.933000000001,6528.255\n",
    "1988-10-01,5811.264,6589.847\n",
    "1989-01-01,5838.225,6664.871999999999\n",
    "1989-04-01,5865.477,6645.224\n",
    "1989-07-01,5922.2609999999995,6689.365\n",
    "1989-10-01,5948.0,6745.986\n",
    "1990-01-01,5998.058000000001,6797.794\n",
    "1990-04-01,6016.329000000001,6845.103\n",
    "1990-07-01,6040.1630000000005,6842.681\n",
    "1990-10-01,5994.2119999999995,6784.328\n",
    "1991-01-01,5971.672,6801.283\n",
    "1991-04-01,6021.1630000000005,6851.0419999999995\n",
    "1991-07-01,6051.184,6879.012\n",
    "1991-10-01,6048.156,6936.2\n",
    "1992-01-01,6161.398,7075.791\n",
    "1992-04-01,6203.224,7145.956999999999\n",
    "1992-07-01,6269.718000000001,7179.108\n",
    "1992-10-01,6344.446,7211.805\n",
    "1993-01-01,6368.772,7238.786999999999\n",
    "1993-04-01,6426.703,7261.182\n",
    "1993-07-01,6498.229,7267.508000000001\n",
    "1993-10-01,6555.274,7318.014\n",
    "1994-01-01,6630.253000000001,7366.339\n",
    "1994-04-01,6681.840999999999,7440.526999999999\n",
    "1994-07-01,6732.791,7483.9169999999995\n",
    "1994-10-01,6805.581,7591.307\n",
    "1995-01-01,6822.519,7656.201\n",
    "1995-04-01,6882.33,7677.91\n",
    "1995-07-01,6944.7,7748.26\n",
    "1995-10-01,6993.144,7793.543000000001\n",
    "1996-01-01,7057.641,7867.34\n",
    "1996-04-01,7133.566,7939.476\n",
    "1996-07-01,7176.754,8003.765\n",
    "1996-10-01,7233.918000000001,8046.395\n",
    "1997-01-01,7310.17,8123.031999999999\n",
    "1997-04-01,7343.08,8195.02\n",
    "1997-07-01,7468.188,8291.452\n",
    "1997-10-01,7557.4490000000005,8413.567\n",
    "1998-01-01,7633.895,8590.692\n",
    "1998-04-01,7768.323,8708.815\n",
    "1998-07-01,7869.624,8796.546999999999\n",
    "1998-10-01,7983.316,8866.183\n",
    "1999-01-01,8060.776,8946.329\n",
    "1999-04-01,8178.302,8966.482\n",
    "1999-07-01,8270.609,9027.655999999999\n",
    "1999-10-01,8391.791,9163.245\n",
    "2000-01-01,8520.71,9338.678\n",
    "2000-04-01,8603.007,9441.952\n",
    "2000-07-01,8687.485,9551.595\n",
    "2000-10-01,8762.205,9585.735999999999\n",
    "2001-01-01,8797.28,9672.598\n",
    "2001-04-01,8818.079,9655.706\n",
    "2001-07-01,8848.3,9878.502\n",
    "2001-10-01,8980.61,9753.663\n",
    "2002-01-01,9008.096,9973.532\n",
    "2002-04-01,9054.348,10041.054\n",
    "2002-07-01,9119.949,10032.3\n",
    "2002-10-01,9172.360999999999,10091.868\n",
    "2003-01-01,9215.501,10115.601\n",
    "2003-04-01,9318.994,10238.895\n",
    "2003-07-01,9455.687,10411.905\n",
    "2003-10-01,9519.802,10439.34\n",
    "2004-01-01,9604.507,10487.421\n",
    "2004-04-01,9664.264000000001,10607.594\n",
    "2004-07-01,9771.136,10676.851999999999\n",
    "2004-10-01,9877.416,10811.704\n",
    "2005-01-01,9935.048,10684.945\n",
    "2005-04-01,10047.766,10786.45\n",
    "2005-07-01,10145.296999999999,10818.34\n",
    "2005-10-01,10175.424,10956.911\n",
    "2006-01-01,10288.892,11170.065\n",
    "2006-04-01,10341.016,11197.381000000001\n",
    "2006-07-01,10403.798,11226.35\n",
    "2006-10-01,10504.481000000002,11374.5\n",
    "2007-01-01,10563.261,11471.408000000001\n",
    "2007-04-01,10582.839,11500.783000000001\n",
    "2007-07-01,10642.483,11510.998\n",
    "2007-10-01,10672.794,11518.823999999999\n",
    "2008-01-01,10644.428999999998,11550.819\n",
    "2008-04-01,10661.688999999998,11762.205\n",
    "2008-07-01,10581.856000000002,11515.015\n",
    "2008-10-01,10483.376,11615.323999999999\n",
    "2009-01-01,10459.698,11565.491000000002\n",
    "2009-04-01,10417.334,11689.821000000002\n",
    "2009-07-01,10489.202,11557.64\n",
    "2009-10-01,10473.645,11554.792\n",
    "2010-01-01,10525.431999999999,11619.753999999999\n",
    "2010-04-01,10609.148000000001,11811.198999999999\n",
    "2010-07-01,10683.341999999999,11895.286\n",
    "2010-10-01,10753.999,11961.982\n",
    "2011-01-01,10799.741000000002,12083.876\n",
    "2011-04-01,10823.653999999999,12057.571000000002\n",
    "2011-07-01,10866.036,12110.213\n",
    "2011-10-01,10885.893,12147.876\n",
    "2012-01-01,10973.303,12375.275\n",
    "2012-04-01,10989.585,12487.781\n",
    "2012-07-01,11007.517,12398.39\n",
    "2012-10-01,11056.851999999999,12741.861\n",
    "2013-01-01,11114.186000000002,12231.915\n",
    "2013-04-01,11122.185,12323.044\n",
    "2013-07-01,11167.421999999999,12376.321000000002\n",
    "2013-10-01,11263.648000000001,12425.218\n",
    "2014-01-01,11308.018999999998,12598.293\n",
    "2014-04-01,11431.831,12769.896999999999\n",
    "2014-07-01,11554.841,12918.965\n",
    "2014-10-01,11694.969,13089.711000000001\n",
    "2015-01-01,11792.118999999999,13238.37\n",
    "2015-04-01,11885.98,13337.976\n",
    "2015-07-01,11976.589,13436.018\n",
    "2015-10-01,12030.223,13478.643999999998\n",
    "2016-01-01,12124.214,13568.73\n",
    "2016-04-01,12211.285,13554.275\n",
    "2016-07-01,12289.063,13615.035\n",
    "2016-10-01,12365.312,13696.702\n",
    "2017-01-01,12438.898000000001,13860.948\"\"\"\n",
    "\n",
    "df = pd.read_csv(StringIO(quarterly_data_string),\n",
    "                 parse_dates = ['DATE'],\n",
    "                 index_col = [0])\n",
    "# Plot the data\n",
    "plt.figure(figsize=(9,6))\n",
    "plt.plot(df.DPIC96, df.PCECC96, 'go', markersize=3.0, label='Data')\n",
    "slope, intercept, r_value, p_value, std_err = stats.linregress(df.DPIC96, df.PCECC96)\n",
    "plt.plot(df.DPIC96, intercept+slope*df.DPIC96, 'k-', label = 'Line of best fit')\n",
    "plt.plot(df.DPIC96, df.DPIC96, 'k--', label = 'C=Y')\n",
    "plt.xlabel('Income (y)')\n",
    "plt.ylabel('Consumption (c)')\n",
    "plt.legend()\n",
    "plt.show()\n",
    "\n",
    "print('a_0 is ' + str(intercept))\n",
    "print('a_1 is ' +  str(slope))"
   ]
  },
  {
   "cell_type": "code",
   "execution_count": null,
   "metadata": {},
   "outputs": [],
   "source": [
    "# However, our consumption data is non-stationary and this drives the previous\n",
    "# estimate.\n",
    "df.DPIC96.plot()\n",
    "plt.xlabel('Date')\n",
    "plt.ylabel('Consumption (c)')"
   ]
  },
  {
   "cell_type": "code",
   "execution_count": null,
   "metadata": {},
   "outputs": [],
   "source": [
    "# Lets use our second equation to try to find an estimate of a_1\n",
    "\n",
    "df_diff = df.diff() #create dataframe of differenced values\n",
    "\n",
    "# Plot the data\n",
    "plt.figure(figsize=(9,6))\n",
    "plt.plot(df_diff.DPIC96, df_diff.PCECC96, 'go', markersize=3.0, label = 'Data')\n",
    "slope, intercept, r_value, p_value, std_err = stats.linregress(df_diff.DPIC96[1:], df_diff.PCECC96[1:]) # find line of best fit\n",
    "plt.plot(df_diff.DPIC96[1:], intercept+slope*df_diff.DPIC96[1:], 'k-', label = 'Line of best fit')\n",
    "plt.plot(np.array([-200, 200]), np.array([-200, 200]), 'k--', label = 'C=Y')\n",
    "plt.xlabel('Change in income (dy)')\n",
    "plt.ylabel('Change in consumption (dc)')\n",
    "plt.legend()\n",
    "plt.show()\n",
    "\n",
    "print('a_1 is ' +  str(slope))"
   ]
  },
  {
   "cell_type": "markdown",
   "metadata": {},
   "source": [
    "a_1 is now much lower, as we expected"
   ]
  },
  {
   "cell_type": "markdown",
   "metadata": {},
   "source": [
    "### Household Data:\n",
    "\n",
    "Cross-section plots of consumption and income: very large and significant $a_0$, $a_1$ maybe 0.5. <br>\n",
    "\n",
    "Further facts:\n",
    "1. Black households save more than whites at a given income level.<br>\n",
    "0. By income group:\n",
    "   * low-income: Implausibly large dissaving (spend 2 or 3 times income)\n",
    "   * high-income: Remarkably high saving"
   ]
  },
  {
   "cell_type": "markdown",
   "metadata": {},
   "source": [
    "### 2. Duesenberry"
   ]
  },
  {
   "cell_type": "markdown",
   "metadata": {},
   "source": [
    "Habit formation may explain why $c_{t-1}$ affects $c_t$.<br>\n",
    "Relative Income Hypothesis suggests that you compare your consumption to consumption of ‘peers’.<br>\n",
    "May explain high saving rates of black HHs.<br>\n",
    "\n",
    "Problems with Duesenberry: <br>\n",
    "No budget constraint<br>\n",
    "No serious treatment of intertemporal nature of saving"
   ]
  },
  {
   "cell_type": "markdown",
   "metadata": {},
   "source": [
    "#### Dusenberry: Evidence"
   ]
  },
  {
   "cell_type": "code",
   "execution_count": null,
   "metadata": {},
   "outputs": [],
   "source": [
    "# Even if we control for income, past consumption seems to be significantly related to current consumption\n",
    "\n",
    "df_habit = df.copy()\n",
    "df_habit.columns = ['cons', 'inc']\n",
    "df_habit['cons_m1'] = df.PCECC96.shift()\n",
    "df_habit.dropna()\n",
    "\n",
    "result = sm.ols(formula = \"cons ~ inc + cons_m1\", data=df_habit.dropna()).fit()\n",
    "result.summary()"
   ]
  },
  {
   "cell_type": "code",
   "execution_count": null,
   "metadata": {},
   "outputs": [],
   "source": [
    "# This regression is clearly problematic for the usual non-stationary reasons.\n",
    "# Nevertheless we see that the coefficient on lagged consumption is very significant."
   ]
  },
  {
   "cell_type": "markdown",
   "metadata": {},
   "source": [
    "### 3. Friedman's Permanent Income Hypothesis"
   ]
  },
  {
   "cell_type": "markdown",
   "metadata": {},
   "source": [
    "$$c = p + u$$\n",
    "$$y = p + v$$\n",
    "\n",
    "We can try to test this theory across households. If we run a regression of the form:\n",
    "$$c_i = a_0 + a_{1}y_{i} + u_{i}$$\n",
    "\n",
    "And if Friedman is correct, and the \"true\" coefficient on permanent income $p$ is 1, then the coefficient on $y$ will be:\n",
    "$$a_1 = \\frac{s^2_{p}}{(s^2_{v} + s^2_{p})}$$"
   ]
  },
  {
   "cell_type": "markdown",
   "metadata": {},
   "source": [
    "#### Friedman's Permanent Income Hypothesis: HARK\n",
    "\n",
    "We begin by creating a class that class implements the Friedman PIH consumption function as a special case of the [Perfect Foresight CRRA](http://econ.jhu.edu/people/ccarroll/courses/choice/lecturenotes/consumption/PerfForesightCRRA) model."
   ]
  },
  {
   "cell_type": "code",
   "execution_count": null,
   "metadata": {},
   "outputs": [],
   "source": [
    "class FriedmanPIHConsumer:\n",
    "    \"\"\"\n",
    "    This class represents consumers that behave according to\n",
    "    Friedman's permanent income hypothesis, representing them as a\n",
    "    special case of HARK's PerfForesightConsumerType\n",
    "    \n",
    "    Methods:\n",
    "    - cFunc: computes consumption/permanent income \n",
    "             given total income/permanent income.\n",
    "    \"\"\"\n",
    "    \n",
    "    def __init__(self, Rfree=1.001, CRRA = 2):\n",
    "        \n",
    "        PFaux = PerfForesightConsumerType(**Params.init_perfect_foresight) # set up a consumer type and use default parameteres\n",
    "        PFaux.cycles = 0 # Make this type have an infinite horizon\n",
    "        PFaux.DiscFac = 1/Rfree\n",
    "        PFaux.Rfree = Rfree\n",
    "        PFaux.LivPrb = [1.0]\n",
    "        PFaux.PermGroFac = [1.0]\n",
    "        PFaux.CRRA = CRRA\n",
    "        PFaux.solve() # solve the consumer's problem\n",
    "        PFaux.unpackcFunc() # unpack the consumption function\n",
    "        \n",
    "        self.cFunc = PFaux.solution[0].cFunc"
   ]
  },
  {
   "cell_type": "code",
   "execution_count": null,
   "metadata": {},
   "outputs": [],
   "source": [
    "# We can now create a PIH consumer\n",
    "PIHexample = FriedmanPIHConsumer()\n",
    "\n",
    "# Plot the perfect foresight consumption function\n",
    "income = np.linspace(0, 50, 20) # pick some income points\n",
    "plt.figure(figsize=(9,6))\n",
    "plt.plot(income, PIHexample.cFunc(income), label = 'Consumption function') #plot income versus the consumption\n",
    "plt.plot(income, income, 'k--', label = 'C=Y')\n",
    "plt.title('Consumption function')\n",
    "plt.xlabel('Normalized Income (y)')\n",
    "plt.ylabel('Normalized Consumption (c)')\n",
    "plt.legend()\n",
    "plt.show()"
   ]
  },
  {
   "cell_type": "code",
   "execution_count": null,
   "metadata": {
    "code_folding": []
   },
   "outputs": [],
   "source": [
    "# We can see that regardless of the income our agent recieves, they consume their permanent income, normalised to 1"
   ]
  },
  {
   "cell_type": "markdown",
   "metadata": {},
   "source": [
    "We can also draw out some implications of the PIH that we can then test with evidence\n",
    "\n",
    "If we look at HH's who have very similar permanent incomes, we should get a small estimate of $a_1$, because $s^2_v$ is large relative to $s^2_p$.\n",
    "\n",
    "Lets simulate this using our HARK consumer."
   ]
  },
  {
   "cell_type": "code",
   "execution_count": null,
   "metadata": {},
   "outputs": [],
   "source": [
    "# Permanent income has low variance\n",
    "\n",
    "perm_inc = np.random.normal(1., 0.1, 50)\n",
    "trans_inc = np.random.normal(0.5, 0.1, 50)\n",
    "\n",
    "total_inc = perm_inc + trans_inc\n",
    "\n",
    "slope, intercept, r_value, p_value, std_err = stats.linregress(total_inc, PIHexample.cFunc(total_inc)*perm_inc)\n",
    "\n",
    "plt.figure(figsize=(9,6))\n",
    "plt.plot(total_inc, PIHexample.cFunc(total_inc)*perm_inc, 'go', label='Simulated data')\n",
    "plt.plot(total_inc, intercept + slope*total_inc, 'k-', label='Line of best fit')\n",
    "plt.plot(np.linspace(1, 2, 5), np.linspace(1, 2, 5), 'k--', label='C=Y')\n",
    "plt.xlabel('Income (y)')\n",
    "plt.ylabel('Consumption (c)')\n",
    "plt.legend()\n",
    "plt.ylim(0, 2)\n",
    "plt.xlim(1.1, 1.9)\n",
    "plt.show()\n",
    "\n",
    "print('a_0 is ' + str(intercept))\n",
    "print('a_1 is ' +  str(slope))"
   ]
  },
  {
   "cell_type": "code",
   "execution_count": null,
   "metadata": {},
   "outputs": [],
   "source": [
    "# Permanent income with higher variance\n",
    "\n",
    "perm_inc = np.random.normal(1., 0.5, 50)\n",
    "trans_inc = np.random.normal(0.5, 0.1, 50)\n",
    "\n",
    "total_inc = perm_inc + trans_inc\n",
    "\n",
    "slope, intercept, r_value, p_value, std_err = stats.linregress(total_inc, PIHexample.cFunc(total_inc)*perm_inc)\n",
    "\n",
    "plt.figure(figsize=(9,6))\n",
    "plt.plot(total_inc, PIHexample.cFunc(total_inc)*perm_inc, 'go', label='Simulated data')\n",
    "plt.plot(total_inc, intercept + slope*total_inc, 'k-', label='Line of best fit')\n",
    "plt.plot(np.linspace(0, 2, 5), np.linspace(0, 2, 5), 'k--', label='C=Y')\n",
    "plt.xlabel('Income (y)')\n",
    "plt.ylabel('Consumption (c)')\n",
    "plt.legend()\n",
    "plt.ylim(0, 2)\n",
    "plt.show()\n",
    "\n",
    "print('a_0 is ' + str(intercept))\n",
    "print('a_1 is ' +  str(slope))"
   ]
  },
  {
   "cell_type": "code",
   "execution_count": null,
   "metadata": {},
   "outputs": [],
   "source": [
    "# We can see that as we increase the variance of permanent income, the estimate of a_1 rises"
   ]
  },
  {
   "cell_type": "markdown",
   "metadata": {},
   "source": [
    "#### Friedman's Permanent Income Hypothesis: Evidence"
   ]
  },
  {
   "cell_type": "markdown",
   "metadata": {},
   "source": [
    "We can now consider the empirical evidence for the claims our HARK model made about the PIH.\n",
    "\n",
    "If we take a long time series, then the differences in permanent income should be the main driver of the variance in total income. This implies that a_1 should be high.\n",
    "\n",
    "If we take higher frequency time series (or cross sectional data), transitory shocks should dominate, and our estimate of a_1 should be lower."
   ]
  },
  {
   "cell_type": "code",
   "execution_count": null,
   "metadata": {},
   "outputs": [],
   "source": [
    "# Lets use the data from FRED that we used before.\n",
    "\n",
    "# Using quarterly data (copying from above), we had:\n",
    "\n",
    "plt.figure(figsize=(9,6))\n",
    "plt.plot(df_diff.DPIC96, df_diff.PCECC96, 'go', markersize=3.0, label = 'Data')\n",
    "slope, intercept, r_value, p_value, std_err = stats.linregress(df_diff.DPIC96[1:], df_diff.PCECC96[1:]) # find line of best fit\n",
    "plt.plot(df_diff.DPIC96[1:], intercept+slope*df_diff.DPIC96[1:], 'k-', label = 'Line of best fit')\n",
    "plt.plot(np.array([-200, 200]), np.array([-200, 200]), 'k--', label = 'C=Y')\n",
    "plt.xlabel('Change in income (dy)')\n",
    "plt.ylabel('Change in consumption (dc)')\n",
    "plt.legend()\n",
    "plt.show()\n",
    "\n",
    "print('a_1 is ' +  str(slope))"
   ]
  },
  {
   "cell_type": "code",
   "execution_count": null,
   "metadata": {},
   "outputs": [],
   "source": [
    "# Using annual data\n",
    "\n",
    "sdt = dt.datetime(1980, 1, 1) #set startdate\n",
    "edt = dt.datetime (2017, 1, 1) #set end date\n",
    "#df_an = web.DataReader([\"PCECCA\", \"A067RX1A020NBEA\"], \"fred\", sdt, edt) #import the annual data from Fred\n",
    "annual_data_string = \"\"\"DATE,PCECCA,A067RX1A020NBEA\n",
    "1980-01-01,4242.809,4905.562\n",
    "1981-01-01,4301.639,5025.39\n",
    "1982-01-01,4364.607,5135.005\n",
    "1983-01-01,4611.691,5312.201999999999\n",
    "1984-01-01,4854.3009999999995,5677.121\n",
    "1985-01-01,5105.633,5847.602\n",
    "1986-01-01,5316.4,6069.76\n",
    "1987-01-01,5496.928000000001,6204.052\n",
    "1988-01-01,5726.528,6495.991999999999\n",
    "1989-01-01,5893.491,6686.177\n",
    "1990-01-01,6012.19,6817.3859999999995\n",
    "1991-01-01,6023.043000000001,6867.004\n",
    "1992-01-01,6244.696,7152.945\n",
    "1993-01-01,6462.244000000001,7271.057\n",
    "1994-01-01,6712.616999999999,7470.578\n",
    "1995-01-01,6910.673000000001,7718.882\n",
    "1996-01-01,7150.47,7964.2119999999995\n",
    "1997-01-01,7419.722,8255.766\n",
    "1998-01-01,7813.79,8740.44\n",
    "1999-01-01,8225.37,9025.6\n",
    "2000-01-01,8643.351999999999,9479.463\n",
    "2001-01-01,8861.067,9740.106\n",
    "2002-01-01,9088.689,10034.51\n",
    "2003-01-01,9377.496,10301.426\n",
    "2004-01-01,9729.331,10645.921999999999\n",
    "2005-01-01,10075.884,10811.621000000001\n",
    "2006-01-01,10384.546999999999,11241.948999999999\n",
    "2007-01-01,10615.344,11500.252\n",
    "2008-01-01,10592.837,11610.77\n",
    "2009-01-01,10459.97,11591.659\n",
    "2010-01-01,10642.98,11822.12\n",
    "2011-01-01,10843.831,12099.788\n",
    "2012-01-01,11006.813999999998,12501.196000000002\n",
    "2013-01-01,11166.86,12339.128999999999\n",
    "2014-01-01,11497.415,12844.273000000001\n",
    "2015-01-01,11921.228000000001,13372.732\n",
    "2016-01-01,12247.469,13608.408000000001\n",
    "2017-01-01,12566.948,14002.78\"\"\"\n",
    "\n",
    "df_an = pd.read_csv(StringIO(annual_data_string),\n",
    "                    parse_dates = ['DATE'],\n",
    "                    index_col = [0])\n",
    "\n",
    "df_an_diff = df_an.diff()\n",
    "df_an_diff.columns = ['cons', 'inc']\n",
    "\n",
    "plt.figure(figsize=(9,6))\n",
    "plt.plot(df_an_diff.inc, df_an_diff.cons, 'go', label='Data')\n",
    "slope, intercept, r_value, p_value, std_err = stats.linregress(df_an_diff.inc[1:], df_an_diff.cons[1:]) # find line of best fit\n",
    "plt.plot(df_an_diff.inc[1:], intercept+slope*df_an_diff.inc[1:], 'k-', label='Line of best fit')\n",
    "plt.plot(np.linspace(-100, 500, 3), np.linspace(-100, 500, 3), 'k--', label='C=Y')\n",
    "plt.legend()\n",
    "plt.xlabel('Change in income (dy)')\n",
    "plt.ylabel('Change in consumption (dc)')\n",
    "plt.show()\n",
    "\n",
    "print('a_0 is ' + str(intercept))\n",
    "print('a_1 is ' +  str(slope))"
   ]
  },
  {
   "cell_type": "code",
   "execution_count": null,
   "metadata": {},
   "outputs": [],
   "source": [
    "# The estimate of a_1 using the annual data is much higher because permanent income is playing a much more important role\n",
    "# in explaining the variation in consumption."
   ]
  }
 ],
 "metadata": {
  "jupytext": {
   "encoding": "# -*- coding: utf-8 -*-",
   "formats": "ipynb,py:percent"
  },
  "kernelspec": {
   "display_name": "Python 3",
   "language": "python",
   "name": "python3"
  },
  "language_info": {
   "codemirror_mode": {
    "name": "ipython",
    "version": 3
   },
   "file_extension": ".py",
   "mimetype": "text/x-python",
   "name": "python",
   "nbconvert_exporter": "python",
   "pygments_lexer": "ipython3",
   "version": "3.7.3"
  },
  "toc": {
   "base_numbering": 1,
   "nav_menu": {},
   "number_sections": true,
   "sideBar": true,
   "skip_h1_title": false,
   "title_cell": "Table of Contents",
   "title_sidebar": "Contents",
   "toc_cell": false,
   "toc_position": {
    "height": "calc(100% - 180px)",
    "left": "10px",
    "top": "150px",
    "width": "273.4px"
   },
   "toc_section_display": true,
   "toc_window_display": true
  }
 },
 "nbformat": 4,
 "nbformat_minor": 2
}
